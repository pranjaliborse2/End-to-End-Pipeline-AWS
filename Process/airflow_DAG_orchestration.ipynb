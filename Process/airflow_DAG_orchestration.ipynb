{
 "cells": [
  {
   "cell_type": "code",
   "execution_count": 5,
   "id": "0120a28d",
   "metadata": {},
   "outputs": [],
   "source": [
    "from airflow import DAG\n",
    "from airflow.operators.python import PythonOperator\n",
    "from airflow.providers.amazon.aws.operators.glue import GlueJobOperator\n",
    "from airflow.providers.amazon.aws.operators.athena import AthenaOperator\n",
    "from airflow.utils.dates import days_ago\n"
   ]
  },
  {
   "cell_type": "code",
   "execution_count": 23,
   "id": "5c1561f3",
   "metadata": {},
   "outputs": [
    {
     "name": "stdout",
     "output_type": "stream",
     "text": [
      "aws-athena-query-results-us-east-1-625444834448\n",
      "aws-glue-assets-625444834448-us-east-1\n",
      "nfip-policies-athena\n",
      "nfip-policies-raw\n",
      "nfip-policies-transformed-parquet\n"
     ]
    }
   ],
   "source": [
    "## Testing if AWS credentials file is working to further perform DAG operations\n",
    "import boto3\n",
    "\n",
    "s3 = boto3.client('s3')\n",
    "response = s3.list_buckets()\n",
    "\n",
    "for bucket in response['Buckets']:\n",
    "    print(bucket['Name'])"
   ]
  },
  {
   "cell_type": "code",
   "execution_count": 11,
   "id": "4b9b84e7",
   "metadata": {},
   "outputs": [
    {
     "name": "stdout",
     "output_type": "stream",
     "text": [
      "['nfip-policies-parquet-catalog', 'nfip-policies-raw-catalog']\n"
     ]
    }
   ],
   "source": [
    "glue = boto3.client('glue')\n",
    "response = glue.get_crawlers()\n",
    "print([i['Name'] for i in response['Crawlers']])"
   ]
  },
  {
   "cell_type": "code",
   "execution_count": 13,
   "id": "026aa3ec",
   "metadata": {},
   "outputs": [
    {
     "data": {
      "text/plain": [
       "{'Jobs': [{'Name': 'csv-to-parquet',\n",
       "   'Description': '',\n",
       "   'Role': 'arn:aws:iam::625444834448:role/service-role/AWSGlueServiceRole-nfip-policies',\n",
       "   'CreatedOn': datetime.datetime(2025, 6, 19, 15, 42, 56, 221000, tzinfo=tzlocal()),\n",
       "   'LastModifiedOn': datetime.datetime(2025, 6, 24, 11, 38, 18, 153000, tzinfo=tzlocal()),\n",
       "   'ExecutionProperty': {'MaxConcurrentRuns': 1},\n",
       "   'Command': {'Name': 'glueetl',\n",
       "    'ScriptLocation': 's3://aws-glue-assets-625444834448-us-east-1/scripts/csv-to-parquet.py',\n",
       "    'PythonVersion': '3'},\n",
       "   'DefaultArguments': {'--enable-metrics': 'true',\n",
       "    '--enable-spark-ui': 'true',\n",
       "    '--extra-py-files': 's3://aws-glue-studio-transforms-510798373988-prod-us-east-1/gs_common.py,s3://aws-glue-studio-transforms-510798373988-prod-us-east-1/gs_null_rows.py',\n",
       "    '--spark-event-logs-path': 's3://aws-glue-assets-625444834448-us-east-1/sparkHistoryLogs/',\n",
       "    '--enable-job-insights': 'true',\n",
       "    '--enable-observability-metrics': 'true',\n",
       "    '--enable-glue-datacatalog': 'true',\n",
       "    '--job-bookmark-option': 'job-bookmark-disable',\n",
       "    '--job-language': 'python',\n",
       "    '--TempDir': 's3://aws-glue-assets-625444834448-us-east-1/temporary/'},\n",
       "   'MaxRetries': 0,\n",
       "   'AllocatedCapacity': 10,\n",
       "   'Timeout': 480,\n",
       "   'MaxCapacity': 10.0,\n",
       "   'WorkerType': 'G.1X',\n",
       "   'NumberOfWorkers': 10,\n",
       "   'GlueVersion': '5.0',\n",
       "   'ExecutionClass': 'STANDARD'}],\n",
       " 'ResponseMetadata': {'RequestId': '3002639a-db26-4bb9-85f7-f7d4bd3dc13f',\n",
       "  'HTTPStatusCode': 200,\n",
       "  'HTTPHeaders': {'date': 'Sat, 28 Jun 2025 15:36:03 GMT',\n",
       "   'content-type': 'application/x-amz-json-1.1',\n",
       "   'content-length': '1174',\n",
       "   'connection': 'keep-alive',\n",
       "   'x-amzn-requestid': '3002639a-db26-4bb9-85f7-f7d4bd3dc13f',\n",
       "   'cache-control': 'no-cache'},\n",
       "  'RetryAttempts': 0}}"
      ]
     },
     "execution_count": 13,
     "metadata": {},
     "output_type": "execute_result"
    }
   ],
   "source": [
    "glue.get_jobs()"
   ]
  },
  {
   "cell_type": "code",
   "execution_count": 15,
   "id": "9c37797a",
   "metadata": {},
   "outputs": [
    {
     "data": {
      "text/plain": [
       "{'DatabaseList': [{'Name': 'default',\n",
       "   'Description': 'Default Hive database',\n",
       "   'LocationUri': 's3://nfip-policies-athena/',\n",
       "   'CreateTime': datetime.datetime(2025, 6, 20, 18, 27, 10, tzinfo=tzlocal()),\n",
       "   'CreateTableDefaultPermissions': [{'Principal': {'DataLakePrincipalIdentifier': 'IAM_ALLOWED_PRINCIPALS'},\n",
       "     'Permissions': ['ALL']}],\n",
       "   'CatalogId': '625444834448'},\n",
       "  {'Name': 'nfip-policies-db',\n",
       "   'CreateTime': datetime.datetime(2025, 6, 18, 15, 59, 33, tzinfo=tzlocal()),\n",
       "   'CreateTableDefaultPermissions': [{'Principal': {'DataLakePrincipalIdentifier': 'IAM_ALLOWED_PRINCIPALS'},\n",
       "     'Permissions': ['ALL']}],\n",
       "   'CatalogId': '625444834448'}],\n",
       " 'ResponseMetadata': {'RequestId': '5357ebde-917b-486a-b541-73f97c3a7c54',\n",
       "  'HTTPStatusCode': 200,\n",
       "  'HTTPHeaders': {'date': 'Sat, 28 Jun 2025 15:44:13 GMT',\n",
       "   'content-type': 'application/x-amz-json-1.1',\n",
       "   'content-length': '737',\n",
       "   'connection': 'keep-alive',\n",
       "   'x-amzn-requestid': '5357ebde-917b-486a-b541-73f97c3a7c54',\n",
       "   'cache-control': 'no-cache'},\n",
       "  'RetryAttempts': 0}}"
      ]
     },
     "execution_count": 15,
     "metadata": {},
     "output_type": "execute_result"
    }
   ],
   "source": [
    "glue.get_databases()"
   ]
  },
  {
   "cell_type": "code",
   "execution_count": 20,
   "id": "dd0c824b",
   "metadata": {},
   "outputs": [
    {
     "data": {
      "text/plain": [
       "{'TableList': [{'Name': 'policies_by_state',\n",
       "   'DatabaseName': 'nfip-policies-db',\n",
       "   'Owner': 'owner',\n",
       "   'CreateTime': datetime.datetime(2025, 6, 19, 8, 13, 13, tzinfo=tzlocal()),\n",
       "   'UpdateTime': datetime.datetime(2025, 6, 19, 8, 13, 14, tzinfo=tzlocal()),\n",
       "   'LastAccessTime': datetime.datetime(2025, 6, 19, 8, 13, 14, tzinfo=tzlocal()),\n",
       "   'Retention': 0,\n",
       "   'StorageDescriptor': {'Columns': [{'Name': 'id', 'Type': 'string'},\n",
       "     {'Name': 'reportedzipcode', 'Type': 'bigint'},\n",
       "     {'Name': 'propertystate', 'Type': 'string'},\n",
       "     {'Name': 'reportedcity', 'Type': 'string'},\n",
       "     {'Name': 'countycode', 'Type': 'bigint'},\n",
       "     {'Name': 'latitude', 'Type': 'double'},\n",
       "     {'Name': 'longitude', 'Type': 'double'},\n",
       "     {'Name': 'policyeffectivedate', 'Type': 'string'},\n",
       "     {'Name': 'policyterminationdate', 'Type': 'string'},\n",
       "     {'Name': 'propertypurchasedate', 'Type': 'string'},\n",
       "     {'Name': 'totalbuildinginsurancecoverage', 'Type': 'bigint'},\n",
       "     {'Name': 'totalcontentsinsurancecoverage', 'Type': 'bigint'},\n",
       "     {'Name': 'totalinsurancepremiumofthepolicy', 'Type': 'bigint'},\n",
       "     {'Name': 'buildingreplacementcost', 'Type': 'bigint'},\n",
       "     {'Name': 'occupancytype', 'Type': 'bigint'},\n",
       "     {'Name': 'construction', 'Type': 'boolean'},\n",
       "     {'Name': 'numberoffloorsininsuredbuilding', 'Type': 'bigint'},\n",
       "     {'Name': 'lowestfloorelevation', 'Type': 'double'},\n",
       "     {'Name': 'elevatedbuildingindicator', 'Type': 'boolean'},\n",
       "     {'Name': 'floodproofedindicator', 'Type': 'boolean'},\n",
       "     {'Name': 'postfirmconstructionindicator', 'Type': 'boolean'},\n",
       "     {'Name': 'policytermindicator', 'Type': 'bigint'},\n",
       "     {'Name': 'ratemethod', 'Type': 'bigint'},\n",
       "     {'Name': 'programtypeindicator', 'Type': 'boolean'},\n",
       "     {'Name': 'nfipratedcommunitynumber', 'Type': 'bigint'}],\n",
       "    'Location': 's3://nfip-policies-raw/Policies-by-state/',\n",
       "    'InputFormat': 'org.apache.hadoop.mapred.TextInputFormat',\n",
       "    'OutputFormat': 'org.apache.hadoop.hive.ql.io.HiveIgnoreKeyTextOutputFormat',\n",
       "    'Compressed': False,\n",
       "    'NumberOfBuckets': -1,\n",
       "    'SerdeInfo': {'SerializationLibrary': 'org.apache.hadoop.hive.serde2.lazy.LazySimpleSerDe',\n",
       "     'Parameters': {'field.delim': ','}},\n",
       "    'BucketColumns': [],\n",
       "    'SortColumns': [],\n",
       "    'Parameters': {'skip.header.line.count': '1',\n",
       "     'sizeKey': '3120649380',\n",
       "     'objectCount': '3',\n",
       "     'UPDATED_BY_CRAWLER': 'nfip-policies-raw-catalog',\n",
       "     'recordCount': '11102640',\n",
       "     'CrawlerSchemaSerializerVersion': '1.0',\n",
       "     'averageRecordSize': '281',\n",
       "     'partition_filtering.enabled': 'true',\n",
       "     'compressionType': 'none',\n",
       "     'CrawlerSchemaDeserializerVersion': '1.0',\n",
       "     'classification': 'csv',\n",
       "     'columnsOrdered': 'true',\n",
       "     'delimiter': ',',\n",
       "     'areColumnsQuoted': 'false',\n",
       "     'CRAWL_RUN_ID': '62410ea9-bc85-452e-a0c7-ba67be72d2aa',\n",
       "     'typeOfData': 'file'},\n",
       "    'StoredAsSubDirectories': False},\n",
       "   'PartitionKeys': [{'Name': 'region', 'Type': 'string'}],\n",
       "   'TableType': 'EXTERNAL_TABLE',\n",
       "   'Parameters': {'skip.header.line.count': '1',\n",
       "    'sizeKey': '3120649380',\n",
       "    'objectCount': '3',\n",
       "    'UPDATED_BY_CRAWLER': 'nfip-policies-raw-catalog',\n",
       "    'recordCount': '11102640',\n",
       "    'CrawlerSchemaSerializerVersion': '1.0',\n",
       "    'averageRecordSize': '281',\n",
       "    'partition_filtering.enabled': 'true',\n",
       "    'compressionType': 'none',\n",
       "    'CrawlerSchemaDeserializerVersion': '1.0',\n",
       "    'classification': 'csv',\n",
       "    'columnsOrdered': 'true',\n",
       "    'delimiter': ',',\n",
       "    'areColumnsQuoted': 'false',\n",
       "    'CRAWL_RUN_ID': '62410ea9-bc85-452e-a0c7-ba67be72d2aa',\n",
       "    'typeOfData': 'file'},\n",
       "   'CreatedBy': 'arn:aws:sts::625444834448:assumed-role/AWSGlueServiceRole-nfip-policies/AWS-Crawler',\n",
       "   'IsRegisteredWithLakeFormation': False,\n",
       "   'CatalogId': '625444834448',\n",
       "   'VersionId': '1'},\n",
       "  {'Name': 'policies_by_state_d0455ea1435e6198d85a70233f5460e7',\n",
       "   'DatabaseName': 'nfip-policies-db',\n",
       "   'Owner': 'owner',\n",
       "   'CreateTime': datetime.datetime(2025, 6, 19, 17, 29, 7, tzinfo=tzlocal()),\n",
       "   'UpdateTime': datetime.datetime(2025, 6, 19, 19, 40, 18, tzinfo=tzlocal()),\n",
       "   'LastAccessTime': datetime.datetime(2025, 6, 19, 19, 40, 18, tzinfo=tzlocal()),\n",
       "   'Retention': 0,\n",
       "   'StorageDescriptor': {'Columns': [{'Name': 'id',\n",
       "      'Type': 'string',\n",
       "      'Comment': ''},\n",
       "     {'Name': 'reportedzipcode', 'Type': 'string'},\n",
       "     {'Name': 'propertystate', 'Type': 'string', 'Comment': ''},\n",
       "     {'Name': 'reportedcity', 'Type': 'string', 'Comment': ''},\n",
       "     {'Name': 'countycode', 'Type': 'bigint', 'Comment': ''},\n",
       "     {'Name': 'latitude', 'Type': 'double', 'Comment': ''},\n",
       "     {'Name': 'longitude', 'Type': 'double', 'Comment': ''},\n",
       "     {'Name': 'policyeffectivedate', 'Type': 'string', 'Comment': ''},\n",
       "     {'Name': 'policyterminationdate', 'Type': 'string', 'Comment': ''},\n",
       "     {'Name': 'propertypurchasedate', 'Type': 'string', 'Comment': ''},\n",
       "     {'Name': 'totalbuildinginsurancecoverage',\n",
       "      'Type': 'bigint',\n",
       "      'Comment': ''},\n",
       "     {'Name': 'totalcontentsinsurancecoverage',\n",
       "      'Type': 'bigint',\n",
       "      'Comment': ''},\n",
       "     {'Name': 'totalinsurancepremiumofthepolicy',\n",
       "      'Type': 'bigint',\n",
       "      'Comment': ''},\n",
       "     {'Name': 'buildingreplacementcost', 'Type': 'bigint', 'Comment': ''},\n",
       "     {'Name': 'occupancytype', 'Type': 'bigint', 'Comment': ''},\n",
       "     {'Name': 'construction', 'Type': 'boolean', 'Comment': ''},\n",
       "     {'Name': 'numberoffloorsininsuredbuilding',\n",
       "      'Type': 'bigint',\n",
       "      'Comment': ''},\n",
       "     {'Name': 'elevatedbuildingindicator', 'Type': 'boolean', 'Comment': ''},\n",
       "     {'Name': 'floodproofedindicator', 'Type': 'boolean', 'Comment': ''},\n",
       "     {'Name': 'postfirmconstructionindicator',\n",
       "      'Type': 'boolean',\n",
       "      'Comment': ''},\n",
       "     {'Name': 'policytermindicator', 'Type': 'bigint', 'Comment': ''},\n",
       "     {'Name': 'ratemethod', 'Type': 'string', 'Comment': ''},\n",
       "     {'Name': 'programtypeindicator', 'Type': 'boolean', 'Comment': ''},\n",
       "     {'Name': 'nfipratedcommunitynumber', 'Type': 'string', 'Comment': ''},\n",
       "     {'Name': 'lowestfloorelevation', 'Type': 'double', 'Comment': ''}],\n",
       "    'Location': 's3://nfip-policies-transformed-parquet/policies-by-state/',\n",
       "    'InputFormat': 'org.apache.hadoop.hive.ql.io.parquet.MapredParquetInputFormat',\n",
       "    'OutputFormat': 'org.apache.hadoop.hive.ql.io.parquet.MapredParquetOutputFormat',\n",
       "    'Compressed': False,\n",
       "    'NumberOfBuckets': -1,\n",
       "    'SerdeInfo': {'SerializationLibrary': 'org.apache.hadoop.hive.ql.io.parquet.serde.ParquetHiveSerDe',\n",
       "     'Parameters': {'serialization.format': '1'}},\n",
       "    'BucketColumns': [],\n",
       "    'SortColumns': [],\n",
       "    'Parameters': {'sizeKey': '786451751',\n",
       "     'objectCount': '45',\n",
       "     'UPDATED_BY_CRAWLER': 'nfip-policies-parquet-catalog',\n",
       "     'recordCount': '15894128',\n",
       "     'CrawlerSchemaSerializerVersion': '1.0',\n",
       "     'CRAWL_RUN_ID': '02f967a6-991c-4b15-8d77-8bae2b52bd5e',\n",
       "     'averageRecordSize': '55',\n",
       "     'partition_filtering.enabled': 'true',\n",
       "     'compressionType': 'none',\n",
       "     'CrawlerSchemaDeserializerVersion': '1.0',\n",
       "     'classification': 'parquet',\n",
       "     'typeOfData': 'file'},\n",
       "    'StoredAsSubDirectories': False},\n",
       "   'PartitionKeys': [{'Name': 'region', 'Type': 'string', 'Comment': ''}],\n",
       "   'TableType': 'EXTERNAL_TABLE',\n",
       "   'Parameters': {'sizeKey': '786451751',\n",
       "    'objectCount': '45',\n",
       "    'UPDATED_BY_CRAWLER': 'nfip-policies-parquet-catalog',\n",
       "    'recordCount': '15894128',\n",
       "    'CrawlerSchemaSerializerVersion': '1.0',\n",
       "    'CRAWL_RUN_ID': '02f967a6-991c-4b15-8d77-8bae2b52bd5e',\n",
       "    'averageRecordSize': '55',\n",
       "    'partition_filtering.enabled': 'true',\n",
       "    'compressionType': 'none',\n",
       "    'CrawlerSchemaDeserializerVersion': '1.0',\n",
       "    'classification': 'parquet',\n",
       "    'typeOfData': 'file'},\n",
       "   'CreatedBy': 'arn:aws:sts::625444834448:assumed-role/AWSGlueServiceRole-nfip-policies/AWS-Crawler',\n",
       "   'IsRegisteredWithLakeFormation': False,\n",
       "   'CatalogId': '625444834448',\n",
       "   'VersionId': '4'}],\n",
       " 'ResponseMetadata': {'RequestId': 'fc25c7cb-7450-4a32-b939-15d702a23db3',\n",
       "  'HTTPStatusCode': 200,\n",
       "  'HTTPHeaders': {'date': 'Sat, 28 Jun 2025 15:49:36 GMT',\n",
       "   'content-type': 'application/x-amz-json-1.1',\n",
       "   'content-length': '6624',\n",
       "   'connection': 'keep-alive',\n",
       "   'x-amzn-requestid': 'fc25c7cb-7450-4a32-b939-15d702a23db3',\n",
       "   'cache-control': 'no-cache'},\n",
       "  'RetryAttempts': 0}}"
      ]
     },
     "execution_count": 20,
     "metadata": {},
     "output_type": "execute_result"
    }
   ],
   "source": [
    "glue.get_tables(DatabaseName = 'nfip-policies-db')"
   ]
  },
  {
   "cell_type": "code",
   "execution_count": null,
   "id": "b0b2a333",
   "metadata": {},
   "outputs": [
    {
     "data": {
      "text/html": [
       "<pre style=\"white-space:pre;overflow-x:auto;line-height:normal;font-family:Menlo,'DejaVu Sans Mono',consolas,'Courier New',monospace\"><span style=\"color: #808000; text-decoration-color: #808000; font-weight: bold\">C:\\Users\\pranj\\AppData\\Local\\Temp\\ipykernel_34500\\</span><span style=\"color: #808000; text-decoration-color: #808000; font-weight: bold\">547608657.</span><span style=\"color: #808000; text-decoration-color: #808000; font-weight: bold\">py:</span><span style=\"color: #808000; text-decoration-color: #808000; font-weight: bold\">5</span><span style=\"color: #808000; text-decoration-color: #808000; font-weight: bold\"> RemovedInAirflow3Warning</span><span style=\"color: #808000; text-decoration-color: #808000\">: Function `days_ago` is deprecated and will be removed in Airflow </span><span style=\"color: #808000; text-decoration-color: #808000; font-weight: bold\">3.0</span><span style=\"color: #808000; text-decoration-color: #808000\">. You can achieve equivalent behavior with `</span><span style=\"color: #808000; text-decoration-color: #808000; font-weight: bold\">pendulum.today(</span><span style=\"color: #808000; text-decoration-color: #808000\">'UTC'</span><span style=\"color: #808000; text-decoration-color: #808000; font-weight: bold\">).add(</span><span style=\"color: #808000; text-decoration-color: #808000\">days</span><span style=\"color: #808000; text-decoration-color: #808000\">=-N, ...</span><span style=\"color: #808000; text-decoration-color: #808000; font-weight: bold\">)</span><span style=\"color: #808000; text-decoration-color: #808000\">`</span>\n",
       "</pre>\n"
      ],
      "text/plain": [
       "\u001b[1;33mC:\\Users\\pranj\\AppData\\Local\\Temp\\ipykernel_34500\\\u001b[0m\u001b[1;33m547608657.\u001b[0m\u001b[1;33mpy:\u001b[0m\u001b[1;33m5\u001b[0m\u001b[1;33m RemovedInAirflow3Warning\u001b[0m\u001b[33m: Function `days_ago` is deprecated and will be removed in Airflow \u001b[0m\u001b[1;33m3.0\u001b[0m\u001b[33m. You can achieve equivalent behavior with `\u001b[0m\u001b[1;33mpendulum.today\u001b[0m\u001b[1;33m(\u001b[0m\u001b[33m'UTC'\u001b[0m\u001b[1;33m)\u001b[0m\u001b[1;33m.add\u001b[0m\u001b[1;33m(\u001b[0m\u001b[33mdays\u001b[0m\u001b[33m=-N, \u001b[0m\u001b[33m...\u001b[0m\u001b[1;33m)\u001b[0m\u001b[33m`\u001b[0m\n"
      ]
     },
     "metadata": {},
     "output_type": "display_data"
    },
    {
     "data": {
      "text/html": [
       "<pre style=\"white-space:pre;overflow-x:auto;line-height:normal;font-family:Menlo,'DejaVu Sans Mono',consolas,'Courier New',monospace\"><span style=\"color: #808000; text-decoration-color: #808000; font-weight: bold\">C:\\Users\\pranj\\AppData\\Local\\Temp\\ipykernel_34500\\</span><span style=\"color: #808000; text-decoration-color: #808000; font-weight: bold\">547608657.</span><span style=\"color: #808000; text-decoration-color: #808000; font-weight: bold\">py:</span><span style=\"color: #808000; text-decoration-color: #808000; font-weight: bold\">17</span><span style=\"color: #808000; text-decoration-color: #808000; font-weight: bold\"> RemovedInAirflow3Warning</span><span style=\"color: #808000; text-decoration-color: #808000\">: Param `schedule_interval` is deprecated and will be removed in a future release. Please use `schedule` instead.</span>\n",
       "</pre>\n"
      ],
      "text/plain": [
       "\u001b[1;33mC:\\Users\\pranj\\AppData\\Local\\Temp\\ipykernel_34500\\\u001b[0m\u001b[1;33m547608657.\u001b[0m\u001b[1;33mpy:\u001b[0m\u001b[1;33m17\u001b[0m\u001b[1;33m RemovedInAirflow3Warning\u001b[0m\u001b[33m: Param `schedule_interval` is deprecated and will be removed in a future release. Please use `schedule` instead.\u001b[0m\n"
      ]
     },
     "metadata": {},
     "output_type": "display_data"
    }
   ],
   "source": [
    "from Glue_Crawler import start_glue_crawler\n",
    "\n",
    "default_args = {\n",
    "    'owner': 'pranjali',\n",
    "    'start_date': days_ago(1),\n",
    "    'retries': 1,\n",
    "}\n",
    "\n",
    "# Use PythonOperator to call different crawlers\n",
    "def run_crawler_raw():\n",
    "    start_glue_crawler('nfip-policies-raw-catalog')\n",
    "\n",
    "def run_crawler_parquet():\n",
    "    start_glue_crawler('nfip-policies-parquet-catalog')\n",
    "\n",
    "\n",
    "with DAG(\n",
    "    dag_id='aws_etl_pipeline',\n",
    "    default_args=default_args,\n",
    "    # schedule_interval='@daily',\n",
    "    schedule_interval=None\n",
    "    catchup=False\n",
    ") as dag:\n",
    "\n",
    "    start_glue_crawler_raw = PythonOperator(\n",
    "        task_id='start_crawler_raw',\n",
    "        python_callable=run_crawler_raw,  # You write this using boto3\n",
    "    )\n",
    "\n",
    "    run_glue_job = GlueJobOperator(\n",
    "        task_id='run_glue_job',\n",
    "        job_name='csv-to-parquet',\n",
    "        script_location='s3://aws-glue-assets-625444834448-us-east-1/scripts/csv-to-parquet.py',\n",
    "        region_name='us-east-1',\n",
    "    )\n",
    "\n",
    "    start_glue_crawler_transformed = PythonOperator(\n",
    "        task_id='start_crawler_parquet',\n",
    "        python_callable=run_crawler_parquet,  # You write this using boto3\n",
    "    )\n",
    "\n",
    "    athena_query = AthenaOperator(\n",
    "        task_id='run_athena_query',\n",
    "        query='SELECT AVG(totalinsurancepremiumofthepolicy) FROM policies_by_state_d0455ea1435e6198d85a70233f5460e7 WHERE propertystate=\"NY\"',\n",
    "        database='nfip-policies-db',\n",
    "        output_location='s3://aws-athena-query-results-us-east-1-625444834448',\n",
    "    )\n",
    "\n",
    "    start_glue_crawler_raw >> run_glue_job >> start_glue_crawler_transformed >> athena_query"
   ]
  },
  {
   "cell_type": "code",
   "execution_count": null,
   "id": "f7bbcca9",
   "metadata": {},
   "outputs": [],
   "source": []
  }
 ],
 "metadata": {
  "kernelspec": {
   "display_name": "airflow_env",
   "language": "python",
   "name": "python3"
  },
  "language_info": {
   "codemirror_mode": {
    "name": "ipython",
    "version": 3
   },
   "file_extension": ".py",
   "mimetype": "text/x-python",
   "name": "python",
   "nbconvert_exporter": "python",
   "pygments_lexer": "ipython3",
   "version": "3.10.11"
  }
 },
 "nbformat": 4,
 "nbformat_minor": 5
}
